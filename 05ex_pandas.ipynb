{
 "cells": [
  {
   "cell_type": "markdown",
   "metadata": {},
   "source": [
    "1\\. **Pandas DataFrame**\n",
    "\n",
    "This exercise consists in analyzing a dataset containg timing information from a series of Time-to-Digital-Converters (TDC) implemented in a pair of FPGAs. Each measurement (i.e. each row of the input file) consists of a flag that specifies the type of message ('HEAD', which in this case is always 1), two addresses of the TDC providing the signal ('FPGA' and 'TDC_CHANNEL'), and the timing information ('ORBIT_CNT', 'BX_COUNTER', and 'TDC_MEAS'). Each TDC count corresponds to 25/30 ns, whereas a unit of BX_COUNTER corresponds to 25 ns, and the ORBIT_CNT is increased every `x` BX_COUNTER. This allows to store the time in a similar way to hours, minutes and seconds."
   ]
  },
  {
   "cell_type": "code",
   "execution_count": 42,
   "metadata": {},
   "outputs": [],
   "source": [
    "# If haven't downloaded it yet, please get the data file with wget\n",
    "#!wget https://www.dropbox.com/s/xvjzaxzz3ysphme/data_000637.txt -P ./data/\n",
    "import pandas as pd\n",
    "import numpy as np\n",
    "import datetime as dt\n",
    "import matplotlib.pyplot as plt"
   ]
  },
  {
   "cell_type": "markdown",
   "metadata": {},
   "source": [
    "1\\. Create a Pandas DataFrame reading N rows of the `data/data_000637.txt` dataset. Choose N to be smaller than or equal to the maximum number of rows and larger that 10k (check the documentation)."
   ]
  },
  {
   "cell_type": "code",
   "execution_count": 43,
   "metadata": {},
   "outputs": [
    {
     "name": "stdout",
     "output_type": "stream",
     "text": [
      "       HEAD  FPGA  TDC_CHANNEL   ORBIT_CNT  BX_COUNTER  TDC_MEAS\n",
      "0         1     0          124  3869200167        2374        27\n",
      "1         1     0           63  3869200167        2553        28\n",
      "2         1     0           64  3869200167        2558        19\n",
      "3         1     0           64  3869200167        2760        25\n",
      "4         1     0           63  3869200167        2762         4\n",
      "...     ...   ...          ...         ...         ...       ...\n",
      "19995     1     0           63  3869200366        2517         6\n",
      "19996     1     0           32  3869200366        2519         5\n",
      "19997     1     0           17  3869200366        2522        21\n",
      "19998     1     0           64  3869200366        2522         0\n",
      "19999     1     0           23  3869200366        2512        27\n",
      "\n",
      "[20000 rows x 6 columns]\n"
     ]
    }
   ],
   "source": [
    "N=20000\n",
    "data=pd.read_csv('data/data_000637.txt',sep=\",\",header=1,nrows=N)\n",
    "data=pd.DataFrame(data)\n",
    "data.columns=['HEAD','FPGA','TDC_CHANNEL','ORBIT_CNT','BX_COUNTER','TDC_MEAS']\n",
    "print(data)"
   ]
  },
  {
   "cell_type": "markdown",
   "metadata": {},
   "source": [
    "2\\. Estimate the number of BX in a ORBIT (the value `x`).\n",
    "\n",
    "*Hint*: check when the BX counter reaches the maximum value before being reset to 0."
   ]
  },
  {
   "cell_type": "code",
   "execution_count": 44,
   "metadata": {},
   "outputs": [
    {
     "name": "stdout",
     "output_type": "stream",
     "text": [
      "With N=20000, the estimated number of BX in a ORBIT is: 3563\n"
     ]
    }
   ],
   "source": [
    "x=max(data.loc[:,'BX_COUNTER'])\n",
    "print(\"With N=20000, the estimated number of BX in a ORBIT is:\",x)"
   ]
  },
  {
   "cell_type": "markdown",
   "metadata": {},
   "source": [
    "3\\. Create a new column with the absolute time in ns (as a combination of the other three columns with timing information) since the beginning of the data acquisition, and convert the new column to a Time Series."
   ]
  },
  {
   "cell_type": "code",
   "execution_count": 45,
   "metadata": {},
   "outputs": [
    {
     "name": "stdout",
     "output_type": "stream",
     "text": [
      "       HEAD  FPGA  TDC_CHANNEL   ORBIT_CNT  BX_COUNTER  TDC_MEAS  \\\n",
      "0         1     0          124  3869200167        2374        27   \n",
      "1         1     0           63  3869200167        2553        28   \n",
      "2         1     0           64  3869200167        2558        19   \n",
      "3         1     0           64  3869200167        2760        25   \n",
      "4         1     0           63  3869200167        2762         4   \n",
      "...     ...   ...          ...         ...         ...       ...   \n",
      "19995     1     0           63  3869200366        2517         6   \n",
      "19996     1     0           32  3869200366        2519         5   \n",
      "19997     1     0           17  3869200366        2522        21   \n",
      "19998     1     0           64  3869200366        2522         0   \n",
      "19999     1     0           23  3869200366        2512        27   \n",
      "\n",
      "                    NANOSECONDS  \n",
      "0               0 days 00:00:00  \n",
      "1     0 days 00:00:00.000004475  \n",
      "2     0 days 00:00:00.000004593  \n",
      "3     0 days 00:00:00.000009648  \n",
      "4     0 days 00:00:00.000009680  \n",
      "...                         ...  \n",
      "19995 0 days 00:00:00.017729482  \n",
      "19996 0 days 00:00:00.017729531  \n",
      "19997 0 days 00:00:00.017729620  \n",
      "19998 0 days 00:00:00.017729602  \n",
      "19999 0 days 00:00:00.017729375  \n",
      "\n",
      "[20000 rows x 7 columns]\n"
     ]
    }
   ],
   "source": [
    "a=data.loc[:,'TDC_MEAS']\n",
    "b=data.loc[:,'BX_COUNTER']\n",
    "c=data.loc[:,'ORBIT_CNT']\n",
    "start=(x*c[0]+b[0])*25+(25/30)*a[0]\n",
    "d=(x*c+b)*25+(25/30)*a-start\n",
    "e=pd.to_timedelta(d)\n",
    "data['NANOSECONDS']=e\n",
    "print(data)"
   ]
  },
  {
   "cell_type": "markdown",
   "metadata": {},
   "source": [
    "4\\. Find out the duration of the data taking in hours, minutes and seconds, by using the features of the Time Series. Perform this check reading the whole dataset."
   ]
  },
  {
   "cell_type": "code",
   "execution_count": 46,
   "metadata": {},
   "outputs": [
    {
     "name": "stdout",
     "output_type": "stream",
     "text": [
      "0         3 days 23:44:09.004934897\n",
      "1         3 days 23:44:09.004939373\n",
      "2         3 days 23:44:09.004939490\n",
      "3         3 days 23:44:09.004944545\n",
      "4         3 days 23:44:09.004944578\n",
      "                     ...           \n",
      "1310714   3 days 23:44:09.985075886\n",
      "1310715   3 days 23:44:09.985075909\n",
      "1310716   3 days 23:44:09.985075925\n",
      "1310717   3 days 23:44:09.985076050\n",
      "1310718   3 days 23:44:09.985075890\n",
      "Length: 1310719, dtype: timedelta64[ns]\n"
     ]
    }
   ],
   "source": [
    "data_full=pd.read_csv('data/data_000637.txt',sep=\",\",header=1)\n",
    "data_full=pd.DataFrame(data_full)\n",
    "data_full.columns=['HEAD','FPGA','TDC_CHANNEL','ORBIT_CNT','BX_COUNTER','TDC_MEAS']\n",
    "a_full=data_full.loc[:,'TDC_MEAS']\n",
    "b_full=data_full['BX_COUNTER']\n",
    "c_full=data_full['ORBIT_CNT']\n",
    "d_full=(x*c_full+b_full)*25+(25/30)*a_full\n",
    "e_full=pd.to_timedelta(d_full)\n",
    "print(e_full)"
   ]
  },
  {
   "cell_type": "markdown",
   "metadata": {},
   "source": [
    "5\\. Use the `.groupby()` method to find out the noisy channels, i.e. the TDC channels with most counts (print to screen the top 3 and the corresponding counts)"
   ]
  },
  {
   "cell_type": "code",
   "execution_count": 47,
   "metadata": {},
   "outputs": [
    {
     "name": "stdout",
     "output_type": "stream",
     "text": [
      "TDC_CHANNEL\n",
      "1       29653\n",
      "2       34271\n",
      "3       23463\n",
      "4       28755\n",
      "5       16435\n",
      "        ...  \n",
      "129        37\n",
      "130        71\n",
      "137        68\n",
      "138        70\n",
      "139    108059\n",
      "Name: TDC_CHANNEL, Length: 133, dtype: int64\n",
      "TDC_CHANNEL\n",
      "139    108059\n",
      "64      66020\n",
      "63      64642\n",
      "61      49479\n",
      "62      49349\n",
      "        ...  \n",
      "126       606\n",
      "130        71\n",
      "138        70\n",
      "137        68\n",
      "129        37\n",
      "Name: TDC_CHANNEL, Length: 133, dtype: int64\n",
      "First three: TDC_CHANNEL\n",
      "139    108059\n",
      "64      66020\n",
      "63      64642\n",
      "Name: TDC_CHANNEL, dtype: int64\n"
     ]
    }
   ],
   "source": [
    "n0=data_full.groupby('TDC_CHANNEL')['TDC_CHANNEL'].count()\n",
    "print(n0)\n",
    "n0=n0.sort_values(ascending=False)\n",
    "print(n0)\n",
    "print('First three: '+ str(n0.iloc[0:3]))"
   ]
  },
  {
   "cell_type": "markdown",
   "metadata": {},
   "source": [
    "6\\. Count the number of non-empty orbits (i.e. the number of orbits with at least one hit)."
   ]
  },
  {
   "cell_type": "code",
   "execution_count": 48,
   "metadata": {},
   "outputs": [
    {
     "name": "stdout",
     "output_type": "stream",
     "text": [
      "Non-empty orbits: 11001\n"
     ]
    }
   ],
   "source": [
    "unique=data_full['ORBIT_CNT'].nunique()\n",
    "print(\"Non-empty orbits:\", unique)"
   ]
  },
  {
   "cell_type": "markdown",
   "metadata": {},
   "source": [
    "7\\. Count the number of unique orbits with at least one measurement from TDC_CHANNEL=139."
   ]
  },
  {
   "cell_type": "code",
   "execution_count": 49,
   "metadata": {},
   "outputs": [
    {
     "name": "stdout",
     "output_type": "stream",
     "text": [
      "10976\n"
     ]
    }
   ],
   "source": [
    "n1=data_full.query('TDC_CHANNEL==139')\n",
    "n1=n1.groupby('ORBIT_CNT')['ORBIT_CNT'].count()\n",
    "print(len(n1))"
   ]
  },
  {
   "cell_type": "markdown",
   "metadata": {},
   "source": [
    "8\\. Create two Series (one for each FPGA) that have the TDC channel as index, and the number of counts for the corresponding TDC channel as values."
   ]
  },
  {
   "cell_type": "code",
   "execution_count": 62,
   "metadata": {},
   "outputs": [
    {
     "name": "stdout",
     "output_type": "stream",
     "text": [
      "TDC_CHANNEL\n",
      "1       1215\n",
      "2       1602\n",
      "3       1493\n",
      "4       2352\n",
      "5       1432\n",
      "       ...  \n",
      "129        2\n",
      "130       33\n",
      "137       32\n",
      "138       34\n",
      "139    75617\n",
      "Length: 124, dtype: int64\n",
      "TDC_CHANNEL\n",
      "1      28438\n",
      "2      32669\n",
      "3      21970\n",
      "4      26403\n",
      "5      15003\n",
      "       ...  \n",
      "129       35\n",
      "130       38\n",
      "137       36\n",
      "138       36\n",
      "139    32442\n",
      "Length: 132, dtype: int64\n"
     ]
    }
   ],
   "source": [
    "f1=data_full.query('FPGA==0')\n",
    "f2=data_full.query('FPGA==1')\n",
    "s1=f1.groupby('TDC_CHANNEL')['TDC_CHANNEL'].count()\n",
    "s2=f2.groupby('TDC_CHANNEL')['TDC_CHANNEL'].count()\n",
    "index1=s1.index\n",
    "index2=s2.index\n",
    "values1=s1.values\n",
    "values2=s2.values\n",
    "sr1=pd.Series(values1, index=index1)\n",
    "print(sr1)\n",
    "sr2=pd.Series(values2, index=index2)\n",
    "print(sr2)"
   ]
  },
  {
   "cell_type": "markdown",
   "metadata": {},
   "source": [
    "9\\. **Optional:** Create two histograms (one for each FPGA) that show the number of counts for each TDC channel."
   ]
  },
  {
   "cell_type": "code",
   "execution_count": 65,
   "metadata": {},
   "outputs": [
    {
     "data": {
      "image/png": "[encoded data removed]",
      "text/plain": [
       "<Figure size 1440x720 with 2 Axes>"
      ]
     },
     "metadata": {
      "needs_background": "light"
     },
     "output_type": "display_data"
    }
   ],
   "source": [
    "fig, axs=plt.subplots(nrows=1,ncols=2,figsize=(20,10))\n",
    "\n",
    "axs[0].set_xlabel('TDC_CHANNEL')\n",
    "axs[0].set_ylabel('COUNTS')\n",
    "axs[0].set_title('FPGA=0')\n",
    "axs[0].set_xlabel('TDC_CHANNEL')\n",
    "axs[0].set_ylabel('COUNTS')\n",
    "axs[0].grid()\n",
    "\n",
    "y,bins,_=axs[0].hist(f1['TDC_CHANNEL'],bins=139,density=False,cumulative=False,color='blue')\n",
    "\n",
    "axs[1].set_xlabel('TDC_CHANNEL')\n",
    "axs[1].set_ylabel('COUNTS')\n",
    "axs[1].set_title('FPGA=1')\n",
    "axs[1].set_xlabel('TDC_CHANNEL')\n",
    "axs[1].set_ylabel('COUNTS')\n",
    "axs[1].grid()\n",
    "y,bins,_=axs[1].hist(f2['TDC_CHANNEL'],bins=139,density=False,cumulative=False,color='red')"
   ]
  }
 ],
 "metadata": {
  "kernelspec": {
   "display_name": "Python 3",
   "language": "python",
   "name": "python3"
  },
  "language_info": {
   "codemirror_mode": {
    "name": "ipython",
    "version": 3
   },
   "file_extension": ".py",
   "mimetype": "text/x-python",
   "name": "python",
   "nbconvert_exporter": "python",
   "pygments_lexer": "ipython3",
   "version": "3.8.10"
  }
 },
 "nbformat": 4,
 "nbformat_minor": 2
}
